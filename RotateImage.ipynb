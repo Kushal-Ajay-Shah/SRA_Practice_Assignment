{
 "cells": [
  {
   "cell_type": "code",
   "execution_count": 12,
   "metadata": {},
   "outputs": [],
   "source": [
    "from PIL import Image\n",
    "import numpy as np\n",
    "from numpy import asarray\n",
    "import math"
   ]
  },
  {
   "cell_type": "code",
   "execution_count": 13,
   "metadata": {},
   "outputs": [],
   "source": [
    "image = Image.open('rotate.png')\n",
    "data = asarray(image)"
   ]
  },
  {
   "cell_type": "code",
   "execution_count": 14,
   "metadata": {},
   "outputs": [
    {
     "name": "stdout",
     "output_type": "stream",
     "text": [
      "Enter the rotation angle in degrees : 65\n"
     ]
    }
   ],
   "source": [
    "rotate_angle = int(input('Enter the rotation angle in degrees : '))"
   ]
  },
  {
   "cell_type": "code",
   "execution_count": 15,
   "metadata": {},
   "outputs": [],
   "source": [
    "rotate_angle_rad  = rotate_angle * np.pi / 180.0\n",
    "height, width, num_channels = data.shape\n",
    "max_len = int(math.sqrt(height*height + width*width))\n",
    "rotated_image = np.zeros((max_len, max_len, num_channels))\n",
    "\n",
    "h, w, _ = rotated_image.shape\n",
    "originy = int(h // 2)\n",
    "originx = int(w // 2)\n",
    "\n",
    "for r in range(h):\n",
    "    for c in range(w):\n",
    "        y = (r-originx)*math.cos(rotate_angle_rad) + (c-originy)*math.sin(rotate_angle_rad)\n",
    "        x = -(r-originx)*math.sin(rotate_angle_rad) + (c-originy)*math.cos(rotate_angle_rad)\n",
    "        \n",
    "        y += originy\n",
    "        x += originx \n",
    "        \n",
    "        x = round(x)\n",
    "        y = round(y)\n",
    "        \n",
    "        if (x >= 0 and y >= 0 and x < width and y < height):\n",
    "            rotated_image[r][c][:] = data[y][x][:]\n",
    "            \n",
    "output_image = Image.fromarray(rotated_image.astype(\"uint8\"))\n",
    "output_image.save(\"rotated_image.png\")\n",
    "output_image.show()"
   ]
  },
  {
   "cell_type": "code",
   "execution_count": null,
   "metadata": {},
   "outputs": [],
   "source": []
  }
 ],
 "metadata": {
  "kernelspec": {
   "display_name": "Python 3",
   "language": "python",
   "name": "python3"
  },
  "language_info": {
   "codemirror_mode": {
    "name": "ipython",
    "version": 3
   },
   "file_extension": ".py",
   "mimetype": "text/x-python",
   "name": "python",
   "nbconvert_exporter": "python",
   "pygments_lexer": "ipython3",
   "version": "3.7.6"
  }
 },
 "nbformat": 4,
 "nbformat_minor": 4
}
