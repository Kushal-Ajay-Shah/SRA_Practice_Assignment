{
 "cells": [
  {
   "cell_type": "code",
   "execution_count": 1,
   "metadata": {},
   "outputs": [],
   "source": [
    "%matplotlib inline\n",
    "\n",
    "from PIL import Image\n",
    "import numpy as np\n",
    "import matplotlib.pyplot as plt"
   ]
  },
  {
   "cell_type": "code",
   "execution_count": 2,
   "metadata": {},
   "outputs": [],
   "source": [
    "def applyKernel(image, kernel,transformation):\n",
    "    filtered_image = np.zeros_like(image)\n",
    "    padded_image = np.zeros((image.shape[0]+kernel.shape[0]-1,image.shape[1] + kernel.shape[1]-1))\n",
    "    padded_image[kernel.shape[0]-2:-1:,kernel.shape[1]-2:-1:] = image\n",
    "    padded_image[0,0]=image[0,0]\n",
    "    padded_image[-1,-1]=image[-1,-1]\n",
    "    \n",
    "    for w in range(image.shape[1]):\n",
    "        for h in range(image.shape[0]):\n",
    "                xstart = w\n",
    "                xend = w + kernel.shape[0]\n",
    "                ystart = h\n",
    "                yend = h + kernel.shape[1]\n",
    "                image_slice = padded_image[ystart: yend , xstart: xend]\n",
    "                product = kernel * image_slice\n",
    "                totalsum = np.sum(product)\n",
    "#                 For Dilation\n",
    "                if transformation == 'dilation':\n",
    "                    if totalsum>0:\n",
    "                        filtered_image[h, w]=1\n",
    "                    else :\n",
    "                        filtered_image[h, w]=0\n",
    "#                         For Erosion\n",
    "                elif transformation == 'erosion':\n",
    "                    if totalsum==5:\n",
    "                        filtered_image[h, w]=1\n",
    "                    else :\n",
    "                        filtered_image[h, w]=0 \n",
    "    return filtered_image\n",
    "\n",
    "\n",
    "\n",
    "def binaryconversion(gray_img):\n",
    "    return (127 < gray_img) & (gray_img <= 255)"
   ]
  },
  {
   "cell_type": "code",
   "execution_count": 3,
   "metadata": {},
   "outputs": [
    {
     "data": {
      "image/png": "[encoded data removed]",
      "text/plain": [
       "<Figure size 432x288 with 1 Axes>"
      ]
     },
     "metadata": {
      "needs_background": "light"
     },
     "output_type": "display_data"
    }
   ],
   "source": [
    "img = np.array(Image.open('./assets/morphological.png'))\n",
    "\n",
    "r, g, b = img[:,:,0], img[:,:,1], img[:,:,2]\n",
    "gray_img = 0.2989 * r + 0.5870 * g + 0.1140 * b\n",
    "\n",
    "\n",
    "# height = gray_img.shape[0]\n",
    "# width = gray_img.shape[1]\n",
    "# threshold = 150\n",
    "\n",
    "# for i in np.arange(height):\n",
    "#     for j in np.arange(width):\n",
    "#         a = gray_img.item(i,j) \n",
    "#         if a > threshold:\n",
    "#                b = 255\n",
    "#         else:\n",
    "#                b = 0\n",
    "#     gray_img.itemset((i,j), b)\n",
    "\n",
    "\n",
    "kernel =np.array([[0, 1, 0],\n",
    "                              [1, 1, 1],\n",
    "                              [0, 1, 0]])    \n",
    "binary_img = binaryconversion(gray_img)\n",
    "\n",
    "# Dilation\n",
    "dilated_img = applyKernel(binary_img , kernel , 'dilation')\n",
    "dilated_img=Image.fromarray(dilated_img).convert('RGB')\n",
    "plt.imshow(dilated_img)\n",
    "dilated_img.save('./outputs/dilated_img.jpg')"
   ]
  },
  {
   "cell_type": "code",
   "execution_count": 4,
   "metadata": {},
   "outputs": [
    {
     "data": {
      "image/png": "[encoded data removed]",
      "text/plain": [
       "<Figure size 432x288 with 1 Axes>"
      ]
     },
     "metadata": {
      "needs_background": "light"
     },
     "output_type": "display_data"
    }
   ],
   "source": [
    "# Erosion\n",
    "eroded_img = applyKernel(binary_img , kernel , 'erosion')\n",
    "eroded_img=Image.fromarray(eroded_img).convert('RGB')\n",
    "plt.imshow(eroded_img)\n",
    "eroded_img.save('./outputs/eroded_img.jpg')"
   ]
  },
  {
   "cell_type": "code",
   "execution_count": 5,
   "metadata": {},
   "outputs": [
    {
     "data": {
      "image/png": "[encoded data removed]",
      "text/plain": [
       "<Figure size 432x288 with 1 Axes>"
      ]
     },
     "metadata": {
      "needs_background": "light"
     },
     "output_type": "display_data"
    }
   ],
   "source": [
    "# Opening\n",
    "opening_img = applyKernel(binary_img , kernel , 'erosion')\n",
    "opening_img = applyKernel(opening_img , kernel , 'dilation')\n",
    "opening_img=Image.fromarray(opening_img).convert('RGB')\n",
    "plt.imshow(opening_img)\n",
    "opening_img.save('./outputs/opening_img.jpg')"
   ]
  },
  {
   "cell_type": "code",
   "execution_count": 6,
   "metadata": {},
   "outputs": [
    {
     "data": {
      "image/png": "[encoded data removed]",
      "text/plain": [
       "<Figure size 432x288 with 1 Axes>"
      ]
     },
     "metadata": {
      "needs_background": "light"
     },
     "output_type": "display_data"
    }
   ],
   "source": [
    "# Closing\n",
    "closing_img = applyKernel(binary_img , kernel , 'dilation')\n",
    "closing_img = applyKernel(closing_img , kernel , 'erosion')\n",
    "closing_img=Image.fromarray(closing_img).convert('RGB')\n",
    "plt.imshow(closing_img)\n",
    "closing_img.save('./outputs/closing_img.jpg')"
   ]
  },
  {
   "cell_type": "code",
   "execution_count": 7,
   "metadata": {},
   "outputs": [
    {
     "data": {
      "text/plain": [
       "<matplotlib.image.AxesImage at 0x20d8ba159c8>"
      ]
     },
     "execution_count": 7,
     "metadata": {},
     "output_type": "execute_result"
    },
    {
     "data": {
      "image/png": "[encoded data removed]",
      "text/plain": [
       "<Figure size 432x288 with 1 Axes>"
      ]
     },
     "metadata": {
      "needs_background": "light"
     },
     "output_type": "display_data"
    }
   ],
   "source": [
    "# Edge Detection\n",
    "erode = applyKernel(binary_img , kernel , 'erosion')\n",
    "erode=Image.fromarray(erode).convert('RGB')\n",
    "plt.imshow(erode)"
   ]
  }
 ],
 "metadata": {
  "kernelspec": {
   "display_name": "Python 3",
   "language": "python",
   "name": "python3"
  },
  "language_info": {
   "codemirror_mode": {
    "name": "ipython",
    "version": 3
   },
   "file_extension": ".py",
   "mimetype": "text/x-python",
   "name": "python",
   "nbconvert_exporter": "python",
   "pygments_lexer": "ipython3",
   "version": "3.7.6"
  }
 },
 "nbformat": 4,
 "nbformat_minor": 4
}
